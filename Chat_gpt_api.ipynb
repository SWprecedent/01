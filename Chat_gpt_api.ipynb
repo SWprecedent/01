
from openai import OpenAI

def get_completion(prompt, model="gpt-3.5-turbo"):
  client = OpenAI(api_key='API_KEY') #gpt api key 받아와서 입력
  completion = client.chat.completions.create(
  model=model,
  messages=[{"role": "user", "content":prompt},])
  response = completion.choices[0].message.content
  return response

prompt = input("검색하실 판례를 입력해주세요:")
response = get_completion(prompt)
print(response)
